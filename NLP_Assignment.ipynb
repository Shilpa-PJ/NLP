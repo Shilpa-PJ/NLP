{
  "nbformat": 4,
  "nbformat_minor": 0,
  "metadata": {
    "colab": {
      "provenance": [],
      "toc_visible": true,
      "mount_file_id": "1Fd95kiXiv3WC08izxHhKJgZuH19GqADt",
      "authorship_tag": "ABX9TyMAgIHM5B4RvtgSNbVL3rud",
      "include_colab_link": true
    },
    "kernelspec": {
      "name": "python3",
      "display_name": "Python 3"
    },
    "language_info": {
      "name": "python"
    }
  },
  "cells": [
    {
      "cell_type": "markdown",
      "metadata": {
        "id": "view-in-github",
        "colab_type": "text"
      },
      "source": [
        "<a href=\"https://colab.research.google.com/github/Shilpa-PJ/NLP/blob/main/NLP_Assignment.ipynb\" target=\"_parent\"><img src=\"https://colab.research.google.com/assets/colab-badge.svg\" alt=\"Open In Colab\"/></a>"
      ]
    },
    {
      "cell_type": "code",
      "execution_count": 78,
      "metadata": {
        "id": "qYXNTjDKMJzG"
      },
      "outputs": [],
      "source": [
        "import nltk"
      ]
    },
    {
      "cell_type": "markdown",
      "source": [
        "Downloading neccessary Package"
      ],
      "metadata": {
        "id": "dAE0IHeHJKiv"
      }
    },
    {
      "cell_type": "code",
      "source": [
        "nltk.download('stopwords')\n",
        "nltk.download('wordnet')"
      ],
      "metadata": {
        "colab": {
          "base_uri": "https://localhost:8080/"
        },
        "id": "Wsho_Nmi2-fU",
        "outputId": "506f59e1-c80b-4abc-e1f8-e94d9e661dda"
      },
      "execution_count": 79,
      "outputs": [
        {
          "output_type": "stream",
          "name": "stderr",
          "text": [
            "[nltk_data] Downloading package stopwords to /root/nltk_data...\n",
            "[nltk_data]   Package stopwords is already up-to-date!\n",
            "[nltk_data] Downloading package wordnet to /root/nltk_data...\n",
            "[nltk_data]   Package wordnet is already up-to-date!\n"
          ]
        },
        {
          "output_type": "execute_result",
          "data": {
            "text/plain": [
              "True"
            ]
          },
          "metadata": {},
          "execution_count": 79
        }
      ]
    },
    {
      "cell_type": "code",
      "source": [
        "from nltk.stem import PorterStemmer  # A stemmer for English\n",
        "from nltk.stem import WordNetLemmatizer # A lemmatizer for English\n",
        "from nltk.corpus import stopwords # A list of stop words for English\n",
        "from nltk.corpus import wordnet #import wordnet from nltk corpus"
      ],
      "metadata": {
        "id": "PO5fNnWvykrb"
      },
      "execution_count": 80,
      "outputs": []
    },
    {
      "cell_type": "code",
      "source": [
        "# Create an instance of PorterStemmer\n",
        "stemmer= PorterStemmer()\n",
        "# Create an instance of WordNetLematizer\n",
        "lemmatizer= WordNetLemmatizer()\n",
        "# Create an instance for stop words\n",
        "stop_words= set(stopwords.words('english'))"
      ],
      "metadata": {
        "id": "5gQ2QYw51WdJ"
      },
      "execution_count": 81,
      "outputs": []
    },
    {
      "cell_type": "markdown",
      "source": [
        "Loading Paragraph text file"
      ],
      "metadata": {
        "id": "ss5-gSaC9aN6"
      }
    },
    {
      "cell_type": "code",
      "source": [
        "with open('/content/drive/MyDrive/India’s moon mission.txt','r') as txt:\n",
        "  paragraph=txt.read()\n",
        "paragraph"
      ],
      "metadata": {
        "id": "SQraQzH73n_b",
        "colab": {
          "base_uri": "https://localhost:8080/",
          "height": 157
        },
        "outputId": "01053f6d-8290-458e-8dfc-53b1b7affa02"
      },
      "execution_count": 82,
      "outputs": [
        {
          "output_type": "execute_result",
          "data": {
            "text/plain": [
              "'India’s moon mission(IMM) is an ambitious and historic endeavour to explore the lunar south pole, a region that has never been visited by any other spacecraft. India aims to become the fourth country to achieve a soft landing on the moon, after the US, the former Soviet Union and China. The mission consists of an orbiter, a lander and a rover, which will carry out various scientific experiments and observations on the moon’s surface and subsurface. The mission’s main objectives are to search for water and minerals, study the lunar topography and geology, and measure seismic activity. The mission is also a demonstration of India’s technological prowess and space capabilities. India launched its first moon mission, Chandrayaan-1, in 2008, which successfully orbited the moon and detected traces of water molecules on the lunar surface. India’s second moon mission, Chandrayaan-2, was launched in 2019, but failed to land its rover on the moon due to a loss of communication with the lander. '"
            ],
            "application/vnd.google.colaboratory.intrinsic+json": {
              "type": "string"
            }
          },
          "metadata": {},
          "execution_count": 82
        }
      ]
    },
    {
      "cell_type": "code",
      "source": [
        "# Tokenize the paragraph into words\n",
        "words=nltk.word_tokenize(paragraph)"
      ],
      "metadata": {
        "id": "rtbXUZQC9Y-C"
      },
      "execution_count": 83,
      "outputs": []
    },
    {
      "cell_type": "code",
      "source": [
        "#Perform stop word removal on each word\n",
        "filtered_words= [word for word in words if word not in stop_words]\n",
        "print(\"Filtered Words\",filtered_words)"
      ],
      "metadata": {
        "colab": {
          "base_uri": "https://localhost:8080/"
        },
        "id": "FRJ_eg8r-_vR",
        "outputId": "c04caeff-1393-4e7f-e201-dab0b8b9ad95"
      },
      "execution_count": 84,
      "outputs": [
        {
          "output_type": "stream",
          "name": "stdout",
          "text": [
            "Filtered Words ['India', '’', 'moon', 'mission', '(', 'IMM', ')', 'ambitious', 'historic', 'endeavour', 'explore', 'lunar', 'south', 'pole', ',', 'region', 'never', 'visited', 'spacecraft', '.', 'India', 'aims', 'become', 'fourth', 'country', 'achieve', 'soft', 'landing', 'moon', ',', 'US', ',', 'former', 'Soviet', 'Union', 'China', '.', 'The', 'mission', 'consists', 'orbiter', ',', 'lander', 'rover', ',', 'carry', 'various', 'scientific', 'experiments', 'observations', 'moon', '’', 'surface', 'subsurface', '.', 'The', 'mission', '’', 'main', 'objectives', 'search', 'water', 'minerals', ',', 'study', 'lunar', 'topography', 'geology', ',', 'measure', 'seismic', 'activity', '.', 'The', 'mission', 'also', 'demonstration', 'India', '’', 'technological', 'prowess', 'space', 'capabilities', '.', 'India', 'launched', 'first', 'moon', 'mission', ',', 'Chandrayaan-1', ',', '2008', ',', 'successfully', 'orbited', 'moon', 'detected', 'traces', 'water', 'molecules', 'lunar', 'surface', '.', 'India', '’', 'second', 'moon', 'mission', ',', 'Chandrayaan-2', ',', 'launched', '2019', ',', 'failed', 'land', 'rover', 'moon', 'due', 'loss', 'communication', 'lander', '.']\n"
          ]
        }
      ]
    },
    {
      "cell_type": "markdown",
      "source": [
        "Perform stemming in paragraph that does not have stop words"
      ],
      "metadata": {
        "id": "9pfW6On0D0r_"
      }
    },
    {
      "cell_type": "code",
      "source": [
        "stemmed_words=[stemmer.stem(word) for word in filtered_words]\n",
        "print(\"Stemmed words\",stemmed_words)"
      ],
      "metadata": {
        "colab": {
          "base_uri": "https://localhost:8080/"
        },
        "id": "F9I8vEzKEHIK",
        "outputId": "ad2ebb0a-9deb-46d0-f4ae-580097fa0c6f"
      },
      "execution_count": 85,
      "outputs": [
        {
          "output_type": "stream",
          "name": "stdout",
          "text": [
            "Stemmed words ['india', '’', 'moon', 'mission', '(', 'imm', ')', 'ambiti', 'histor', 'endeavour', 'explor', 'lunar', 'south', 'pole', ',', 'region', 'never', 'visit', 'spacecraft', '.', 'india', 'aim', 'becom', 'fourth', 'countri', 'achiev', 'soft', 'land', 'moon', ',', 'us', ',', 'former', 'soviet', 'union', 'china', '.', 'the', 'mission', 'consist', 'orbit', ',', 'lander', 'rover', ',', 'carri', 'variou', 'scientif', 'experi', 'observ', 'moon', '’', 'surfac', 'subsurfac', '.', 'the', 'mission', '’', 'main', 'object', 'search', 'water', 'miner', ',', 'studi', 'lunar', 'topographi', 'geolog', ',', 'measur', 'seismic', 'activ', '.', 'the', 'mission', 'also', 'demonstr', 'india', '’', 'technolog', 'prowess', 'space', 'capabl', '.', 'india', 'launch', 'first', 'moon', 'mission', ',', 'chandrayaan-1', ',', '2008', ',', 'success', 'orbit', 'moon', 'detect', 'trace', 'water', 'molecul', 'lunar', 'surfac', '.', 'india', '’', 'second', 'moon', 'mission', ',', 'chandrayaan-2', ',', 'launch', '2019', ',', 'fail', 'land', 'rover', 'moon', 'due', 'loss', 'commun', 'lander', '.']\n"
          ]
        }
      ]
    },
    {
      "cell_type": "markdown",
      "source": [
        "Perform lemmatization in paragraph that does not have stop words"
      ],
      "metadata": {
        "id": "r8KMg2HFFeMO"
      }
    },
    {
      "cell_type": "code",
      "source": [
        "lemmatized_words=[lemmatizer.lemmatize(word,pos=wordnet.VERB) for word in filtered_words]\n",
        "print(\"Lemmatized Words\",lemmatized_words)"
      ],
      "metadata": {
        "colab": {
          "base_uri": "https://localhost:8080/"
        },
        "id": "5n4EDmSNFtH8",
        "outputId": "61e4935c-742a-4e1d-a4ad-333790e41bef"
      },
      "execution_count": 86,
      "outputs": [
        {
          "output_type": "stream",
          "name": "stdout",
          "text": [
            "Lemmatized Words ['India', '’', 'moon', 'mission', '(', 'IMM', ')', 'ambitious', 'historic', 'endeavour', 'explore', 'lunar', 'south', 'pole', ',', 'region', 'never', 'visit', 'spacecraft', '.', 'India', 'aim', 'become', 'fourth', 'country', 'achieve', 'soft', 'land', 'moon', ',', 'US', ',', 'former', 'Soviet', 'Union', 'China', '.', 'The', 'mission', 'consist', 'orbiter', ',', 'lander', 'rover', ',', 'carry', 'various', 'scientific', 'experiment', 'observations', 'moon', '’', 'surface', 'subsurface', '.', 'The', 'mission', '’', 'main', 'objectives', 'search', 'water', 'minerals', ',', 'study', 'lunar', 'topography', 'geology', ',', 'measure', 'seismic', 'activity', '.', 'The', 'mission', 'also', 'demonstration', 'India', '’', 'technological', 'prowess', 'space', 'capabilities', '.', 'India', 'launch', 'first', 'moon', 'mission', ',', 'Chandrayaan-1', ',', '2008', ',', 'successfully', 'orbit', 'moon', 'detect', 'trace', 'water', 'molecules', 'lunar', 'surface', '.', 'India', '’', 'second', 'moon', 'mission', ',', 'Chandrayaan-2', ',', 'launch', '2019', ',', 'fail', 'land', 'rover', 'moon', 'due', 'loss', 'communication', 'lander', '.']\n"
          ]
        }
      ]
    }
  ]
}