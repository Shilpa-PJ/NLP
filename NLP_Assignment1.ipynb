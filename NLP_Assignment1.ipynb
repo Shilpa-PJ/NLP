{
  "nbformat": 4,
  "nbformat_minor": 0,
  "metadata": {
    "colab": {
      "provenance": [],
      "toc_visible": true,
      "mount_file_id": "1Fd95kiXiv3WC08izxHhKJgZuH19GqADt",
      "authorship_tag": "ABX9TyMXc4OIzVqt1ujdjnY0MtQ+",
      "include_colab_link": true
    },
    "kernelspec": {
      "name": "python3",
      "display_name": "Python 3"
    },
    "language_info": {
      "name": "python"
    }
  },
  "cells": [
    {
      "cell_type": "markdown",
      "metadata": {
        "id": "view-in-github",
        "colab_type": "text"
      },
      "source": [
        "<a href=\"https://colab.research.google.com/github/Shilpa-PJ/NLP/blob/main/NLP_Assignment1.ipynb\" target=\"_parent\"><img src=\"https://colab.research.google.com/assets/colab-badge.svg\" alt=\"Open In Colab\"/></a>"
      ]
    },
    {
      "cell_type": "code",
      "execution_count": null,
      "metadata": {
        "id": "qYXNTjDKMJzG"
      },
      "outputs": [],
      "source": [
        "import nltk"
      ]
    },
    {
      "cell_type": "markdown",
      "source": [
        "Downloading neccessary Packages"
      ],
      "metadata": {
        "id": "dAE0IHeHJKiv"
      }
    },
    {
      "cell_type": "code",
      "source": [
        "nltk.download('stopwords')\n",
        "nltk.download('wordnet')\n",
        "nltk.download(\"averaged_perceptron_tagger\")# The averaged_perceptron_tagger.zip contains the pre-trained English [Part-of-Speech (POS]]\n",
        "nltk.download('punkt')"
      ],
      "metadata": {
        "colab": {
          "base_uri": "https://localhost:8080/"
        },
        "id": "Wsho_Nmi2-fU",
        "outputId": "fee10ddc-d7be-48e0-de01-83197333ccb3"
      },
      "execution_count": null,
      "outputs": [
        {
          "output_type": "stream",
          "name": "stderr",
          "text": [
            "[nltk_data] Downloading package stopwords to /root/nltk_data...\n",
            "[nltk_data]   Package stopwords is already up-to-date!\n",
            "[nltk_data] Downloading package wordnet to /root/nltk_data...\n",
            "[nltk_data]   Package wordnet is already up-to-date!\n",
            "[nltk_data] Downloading package averaged_perceptron_tagger to\n",
            "[nltk_data]     /root/nltk_data...\n",
            "[nltk_data]   Package averaged_perceptron_tagger is already up-to-\n",
            "[nltk_data]       date!\n",
            "[nltk_data] Downloading package punkt to /root/nltk_data...\n",
            "[nltk_data]   Package punkt is already up-to-date!\n"
          ]
        },
        {
          "output_type": "execute_result",
          "data": {
            "text/plain": [
              "True"
            ]
          },
          "metadata": {},
          "execution_count": 31
        }
      ]
    },
    {
      "cell_type": "code",
      "source": [
        "from nltk.stem import PorterStemmer  # A stemmer for English\n",
        "from nltk.stem import WordNetLemmatizer # A lemmatizer for English\n",
        "from nltk.corpus import stopwords # A list of stop words for English\n",
        "from nltk.corpus import wordnet #import wordnet from nltk corpus"
      ],
      "metadata": {
        "id": "PO5fNnWvykrb"
      },
      "execution_count": null,
      "outputs": []
    },
    {
      "cell_type": "code",
      "source": [
        "# Create an instance of PorterStemmer\n",
        "stemmer= PorterStemmer()\n",
        "# Create an instance of WordNetLematizer\n",
        "lemmatizer= WordNetLemmatizer()\n",
        "# Create an instance for stop words\n",
        "stop_words= set(stopwords.words('english'))"
      ],
      "metadata": {
        "id": "5gQ2QYw51WdJ"
      },
      "execution_count": null,
      "outputs": []
    },
    {
      "cell_type": "markdown",
      "source": [
        "Loading Paragraph text file"
      ],
      "metadata": {
        "id": "ss5-gSaC9aN6"
      }
    },
    {
      "cell_type": "code",
      "source": [
        "with open('/content/drive/MyDrive/India’s moon mission.txt','r') as txt:\n",
        "  paragraph=txt.read()\n",
        "paragraph"
      ],
      "metadata": {
        "id": "SQraQzH73n_b",
        "colab": {
          "base_uri": "https://localhost:8080/",
          "height": 157
        },
        "outputId": "7cf35edd-9b03-4e57-f9a9-6c9bdf7bf996"
      },
      "execution_count": null,
      "outputs": [
        {
          "output_type": "execute_result",
          "data": {
            "text/plain": [
              "'India’s moon mission(IMM) is an ambitious and historic endeavour to explore the lunar south pole, a region that has never been visited by any other spacecraft. India aims to become the fourth country to achieve a soft landing on the moon, after the US, the former Soviet Union and China. The mission consists of an orbiter, a lander and a rover, which will carry out various scientific experiments and observations on the moon’s surface and subsurface. The mission’s main objectives are to search for water and minerals, study the lunar topography and geology, and measure seismic activity. The mission is also a demonstration of India’s technological prowess and space capabilities. India launched its first moon mission, Chandrayaan-1, in 2008, which successfully orbited the moon and detected traces of water molecules on the lunar surface. India’s second moon mission, Chandrayaan-2, was launched in 2019, but failed to land its rover on the moon due to a loss of communication with the lander. '"
            ],
            "application/vnd.google.colaboratory.intrinsic+json": {
              "type": "string"
            }
          },
          "metadata": {},
          "execution_count": 34
        }
      ]
    },
    {
      "cell_type": "code",
      "source": [
        "# Tokenize the paragraph into words\n",
        "words=nltk.word_tokenize(paragraph)"
      ],
      "metadata": {
        "id": "rtbXUZQC9Y-C"
      },
      "execution_count": null,
      "outputs": []
    },
    {
      "cell_type": "code",
      "source": [
        "#Perform stop word removal on each word\n",
        "filtered_words= [word for word in words if word not in stop_words]\n",
        "print(\"Filtered Words\",filtered_words)"
      ],
      "metadata": {
        "colab": {
          "base_uri": "https://localhost:8080/"
        },
        "id": "FRJ_eg8r-_vR",
        "outputId": "8eef2722-b0ba-4570-c1da-44c55193a16c"
      },
      "execution_count": null,
      "outputs": [
        {
          "output_type": "stream",
          "name": "stdout",
          "text": [
            "Filtered Words ['India', '’', 'moon', 'mission', '(', 'IMM', ')', 'ambitious', 'historic', 'endeavour', 'explore', 'lunar', 'south', 'pole', ',', 'region', 'never', 'visited', 'spacecraft', '.', 'India', 'aims', 'become', 'fourth', 'country', 'achieve', 'soft', 'landing', 'moon', ',', 'US', ',', 'former', 'Soviet', 'Union', 'China', '.', 'The', 'mission', 'consists', 'orbiter', ',', 'lander', 'rover', ',', 'carry', 'various', 'scientific', 'experiments', 'observations', 'moon', '’', 'surface', 'subsurface', '.', 'The', 'mission', '’', 'main', 'objectives', 'search', 'water', 'minerals', ',', 'study', 'lunar', 'topography', 'geology', ',', 'measure', 'seismic', 'activity', '.', 'The', 'mission', 'also', 'demonstration', 'India', '’', 'technological', 'prowess', 'space', 'capabilities', '.', 'India', 'launched', 'first', 'moon', 'mission', ',', 'Chandrayaan-1', ',', '2008', ',', 'successfully', 'orbited', 'moon', 'detected', 'traces', 'water', 'molecules', 'lunar', 'surface', '.', 'India', '’', 'second', 'moon', 'mission', ',', 'Chandrayaan-2', ',', 'launched', '2019', ',', 'failed', 'land', 'rover', 'moon', 'due', 'loss', 'communication', 'lander', '.']\n"
          ]
        }
      ]
    },
    {
      "cell_type": "markdown",
      "source": [
        "Perform stemming in paragraph that does not have stop words"
      ],
      "metadata": {
        "id": "9pfW6On0D0r_"
      }
    },
    {
      "cell_type": "code",
      "source": [
        "stemmed_words=[stemmer.stem(word) for word in filtered_words]\n",
        "print(\"Stemmed words\",stemmed_words)"
      ],
      "metadata": {
        "colab": {
          "base_uri": "https://localhost:8080/"
        },
        "id": "F9I8vEzKEHIK",
        "outputId": "2f5a54d8-0432-41cb-ca62-0594d01fd44c"
      },
      "execution_count": null,
      "outputs": [
        {
          "output_type": "stream",
          "name": "stdout",
          "text": [
            "Stemmed words ['india', '’', 'moon', 'mission', '(', 'imm', ')', 'ambiti', 'histor', 'endeavour', 'explor', 'lunar', 'south', 'pole', ',', 'region', 'never', 'visit', 'spacecraft', '.', 'india', 'aim', 'becom', 'fourth', 'countri', 'achiev', 'soft', 'land', 'moon', ',', 'us', ',', 'former', 'soviet', 'union', 'china', '.', 'the', 'mission', 'consist', 'orbit', ',', 'lander', 'rover', ',', 'carri', 'variou', 'scientif', 'experi', 'observ', 'moon', '’', 'surfac', 'subsurfac', '.', 'the', 'mission', '’', 'main', 'object', 'search', 'water', 'miner', ',', 'studi', 'lunar', 'topographi', 'geolog', ',', 'measur', 'seismic', 'activ', '.', 'the', 'mission', 'also', 'demonstr', 'india', '’', 'technolog', 'prowess', 'space', 'capabl', '.', 'india', 'launch', 'first', 'moon', 'mission', ',', 'chandrayaan-1', ',', '2008', ',', 'success', 'orbit', 'moon', 'detect', 'trace', 'water', 'molecul', 'lunar', 'surfac', '.', 'india', '’', 'second', 'moon', 'mission', ',', 'chandrayaan-2', ',', 'launch', '2019', ',', 'fail', 'land', 'rover', 'moon', 'due', 'loss', 'commun', 'lander', '.']\n"
          ]
        }
      ]
    },
    {
      "cell_type": "markdown",
      "source": [
        "Perform lemmatization in paragraph that does not have stop words"
      ],
      "metadata": {
        "id": "r8KMg2HFFeMO"
      }
    },
    {
      "cell_type": "code",
      "source": [
        "# POS Tagger for Lemmatizer\n",
        "# Returns the tags or POS {Noun, Verb,Adjective,Adverb}\n",
        "def get_wordnet_pos(tags):\n",
        "  if tags.startswith('J'):\n",
        "    return wordnet.ADJ\n",
        "  elif tags.startswith('V'):\n",
        "    return wordnet.VERB\n",
        "  elif tags.startswith('N'):\n",
        "    return wordnet.NOUN\n",
        "  elif tags.startswith('R'):\n",
        "    return wordnet.ADV\n",
        "  else:\n",
        "    return wordnet.NOUN"
      ],
      "metadata": {
        "id": "_jTjc4svMnlj"
      },
      "execution_count": null,
      "outputs": []
    },
    {
      "cell_type": "code",
      "source": [
        "# Execute the NLTK POS tagger\n",
        "word_tag = nltk.pos_tag(filtered_words)\n",
        "word_tag"
      ],
      "metadata": {
        "colab": {
          "base_uri": "https://localhost:8080/"
        },
        "id": "GIxzgzlpM9OH",
        "outputId": "085de9b1-67cc-4005-b987-7eea4db012ca"
      },
      "execution_count": null,
      "outputs": [
        {
          "output_type": "execute_result",
          "data": {
            "text/plain": [
              "[('India', 'NNP'),\n",
              " ('’', 'NNP'),\n",
              " ('moon', 'NN'),\n",
              " ('mission', 'NN'),\n",
              " ('(', '('),\n",
              " ('IMM', 'NNP'),\n",
              " (')', ')'),\n",
              " ('ambitious', 'JJ'),\n",
              " ('historic', 'JJ'),\n",
              " ('endeavour', 'NN'),\n",
              " ('explore', 'NN'),\n",
              " ('lunar', 'NN'),\n",
              " ('south', 'JJ'),\n",
              " ('pole', 'NN'),\n",
              " (',', ','),\n",
              " ('region', 'NN'),\n",
              " ('never', 'RB'),\n",
              " ('visited', 'VBD'),\n",
              " ('spacecraft', 'NN'),\n",
              " ('.', '.'),\n",
              " ('India', 'NNP'),\n",
              " ('aims', 'VBZ'),\n",
              " ('become', 'VBN'),\n",
              " ('fourth', 'JJ'),\n",
              " ('country', 'NN'),\n",
              " ('achieve', 'VBP'),\n",
              " ('soft', 'JJ'),\n",
              " ('landing', 'NN'),\n",
              " ('moon', 'NN'),\n",
              " (',', ','),\n",
              " ('US', 'NNP'),\n",
              " (',', ','),\n",
              " ('former', 'JJ'),\n",
              " ('Soviet', 'NNP'),\n",
              " ('Union', 'NNP'),\n",
              " ('China', 'NNP'),\n",
              " ('.', '.'),\n",
              " ('The', 'DT'),\n",
              " ('mission', 'NN'),\n",
              " ('consists', 'VBZ'),\n",
              " ('orbiter', 'RB'),\n",
              " (',', ','),\n",
              " ('lander', 'JJR'),\n",
              " ('rover', 'NN'),\n",
              " (',', ','),\n",
              " ('carry', 'VBP'),\n",
              " ('various', 'JJ'),\n",
              " ('scientific', 'JJ'),\n",
              " ('experiments', 'NNS'),\n",
              " ('observations', 'NNS'),\n",
              " ('moon', 'VBP'),\n",
              " ('’', 'JJ'),\n",
              " ('surface', 'NN'),\n",
              " ('subsurface', 'NN'),\n",
              " ('.', '.'),\n",
              " ('The', 'DT'),\n",
              " ('mission', 'NN'),\n",
              " ('’', 'NNP'),\n",
              " ('main', 'JJ'),\n",
              " ('objectives', 'NNS'),\n",
              " ('search', 'VBP'),\n",
              " ('water', 'NN'),\n",
              " ('minerals', 'NNS'),\n",
              " (',', ','),\n",
              " ('study', 'NN'),\n",
              " ('lunar', 'VBD'),\n",
              " ('topography', 'NN'),\n",
              " ('geology', 'NN'),\n",
              " (',', ','),\n",
              " ('measure', 'NN'),\n",
              " ('seismic', 'JJ'),\n",
              " ('activity', 'NN'),\n",
              " ('.', '.'),\n",
              " ('The', 'DT'),\n",
              " ('mission', 'NN'),\n",
              " ('also', 'RB'),\n",
              " ('demonstration', 'NN'),\n",
              " ('India', 'NNP'),\n",
              " ('’', 'NNP'),\n",
              " ('technological', 'JJ'),\n",
              " ('prowess', 'NN'),\n",
              " ('space', 'NN'),\n",
              " ('capabilities', 'NNS'),\n",
              " ('.', '.'),\n",
              " ('India', 'NNP'),\n",
              " ('launched', 'VBD'),\n",
              " ('first', 'RB'),\n",
              " ('moon', 'JJ'),\n",
              " ('mission', 'NN'),\n",
              " (',', ','),\n",
              " ('Chandrayaan-1', 'NNP'),\n",
              " (',', ','),\n",
              " ('2008', 'CD'),\n",
              " (',', ','),\n",
              " ('successfully', 'RB'),\n",
              " ('orbited', 'VBN'),\n",
              " ('moon', 'NN'),\n",
              " ('detected', 'VBD'),\n",
              " ('traces', 'NNS'),\n",
              " ('water', 'NN'),\n",
              " ('molecules', 'NNS'),\n",
              " ('lunar', 'VBP'),\n",
              " ('surface', 'NN'),\n",
              " ('.', '.'),\n",
              " ('India', 'NNP'),\n",
              " ('’', 'NNP'),\n",
              " ('second', 'JJ'),\n",
              " ('moon', 'NN'),\n",
              " ('mission', 'NN'),\n",
              " (',', ','),\n",
              " ('Chandrayaan-2', 'NNP'),\n",
              " (',', ','),\n",
              " ('launched', 'VBD'),\n",
              " ('2019', 'CD'),\n",
              " (',', ','),\n",
              " ('failed', 'VBD'),\n",
              " ('land', 'NN'),\n",
              " ('rover', 'NN'),\n",
              " ('moon', 'NN'),\n",
              " ('due', 'JJ'),\n",
              " ('loss', 'NN'),\n",
              " ('communication', 'NN'),\n",
              " ('lander', 'NN'),\n",
              " ('.', '.')]"
            ]
          },
          "metadata": {},
          "execution_count": 39
        }
      ]
    },
    {
      "cell_type": "code",
      "source": [
        "#Performing lemmatization using tag\n",
        "for word, tag in word_tag:\n",
        "  lemmatized_words = [lemmatizer.lemmatize(word, pos=get_wordnet_pos(tag))]\n",
        "  print(lemmatized_words)"
      ],
      "metadata": {
        "colab": {
          "base_uri": "https://localhost:8080/"
        },
        "id": "R79oVmqhOPOd",
        "outputId": "c8b0c2d9-76fc-4891-fb3b-ed937abf279c"
      },
      "execution_count": null,
      "outputs": [
        {
          "output_type": "stream",
          "name": "stdout",
          "text": [
            "['India']\n",
            "['’']\n",
            "['moon']\n",
            "['mission']\n",
            "['(']\n",
            "['IMM']\n",
            "[')']\n",
            "['ambitious']\n",
            "['historic']\n",
            "['endeavour']\n",
            "['explore']\n",
            "['lunar']\n",
            "['south']\n",
            "['pole']\n",
            "[',']\n",
            "['region']\n",
            "['never']\n",
            "['visit']\n",
            "['spacecraft']\n",
            "['.']\n",
            "['India']\n",
            "['aim']\n",
            "['become']\n",
            "['fourth']\n",
            "['country']\n",
            "['achieve']\n",
            "['soft']\n",
            "['landing']\n",
            "['moon']\n",
            "[',']\n",
            "['US']\n",
            "[',']\n",
            "['former']\n",
            "['Soviet']\n",
            "['Union']\n",
            "['China']\n",
            "['.']\n",
            "['The']\n",
            "['mission']\n",
            "['consist']\n",
            "['orbiter']\n",
            "[',']\n",
            "['lander']\n",
            "['rover']\n",
            "[',']\n",
            "['carry']\n",
            "['various']\n",
            "['scientific']\n",
            "['experiment']\n",
            "['observation']\n",
            "['moon']\n",
            "['’']\n",
            "['surface']\n",
            "['subsurface']\n",
            "['.']\n",
            "['The']\n",
            "['mission']\n",
            "['’']\n",
            "['main']\n",
            "['objective']\n",
            "['search']\n",
            "['water']\n",
            "['mineral']\n",
            "[',']\n",
            "['study']\n",
            "['lunar']\n",
            "['topography']\n",
            "['geology']\n",
            "[',']\n",
            "['measure']\n",
            "['seismic']\n",
            "['activity']\n",
            "['.']\n",
            "['The']\n",
            "['mission']\n",
            "['also']\n",
            "['demonstration']\n",
            "['India']\n",
            "['’']\n",
            "['technological']\n",
            "['prowess']\n",
            "['space']\n",
            "['capability']\n",
            "['.']\n",
            "['India']\n",
            "['launch']\n",
            "['first']\n",
            "['moon']\n",
            "['mission']\n",
            "[',']\n",
            "['Chandrayaan-1']\n",
            "[',']\n",
            "['2008']\n",
            "[',']\n",
            "['successfully']\n",
            "['orbit']\n",
            "['moon']\n",
            "['detect']\n",
            "['trace']\n",
            "['water']\n",
            "['molecule']\n",
            "['lunar']\n",
            "['surface']\n",
            "['.']\n",
            "['India']\n",
            "['’']\n",
            "['second']\n",
            "['moon']\n",
            "['mission']\n",
            "[',']\n",
            "['Chandrayaan-2']\n",
            "[',']\n",
            "['launch']\n",
            "['2019']\n",
            "[',']\n",
            "['fail']\n",
            "['land']\n",
            "['rover']\n",
            "['moon']\n",
            "['due']\n",
            "['loss']\n",
            "['communication']\n",
            "['lander']\n",
            "['.']\n"
          ]
        }
      ]
    }
  ]
}